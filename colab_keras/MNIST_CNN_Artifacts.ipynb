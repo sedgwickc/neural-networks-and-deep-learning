{
  "nbformat": 4,
  "nbformat_minor": 0,
  "metadata": {
    "colab": {
      "name": "MNIST_CNN_Artifacts.ipynb",
      "provenance": [],
      "authorship_tag": "ABX9TyPk0PCmYWQ0XApfO3m/UA7i",
      "include_colab_link": true
    },
    "kernelspec": {
      "name": "python3",
      "display_name": "Python 3"
    }
  },
  "cells": [
    {
      "cell_type": "markdown",
      "metadata": {
        "id": "view-in-github",
        "colab_type": "text"
      },
      "source": [
        "<a href=\"https://colab.research.google.com/github/sedgwickc/neural-networks-and-deep-learning/blob/master/colab_keras/MNIST_CNN_Artifacts.ipynb\" target=\"_parent\"><img src=\"https://colab.research.google.com/assets/colab-badge.svg\" alt=\"Open In Colab\"/></a>"
      ]
    },
    {
      "cell_type": "markdown",
      "metadata": {
        "id": "eDyu7WXQ3YNu",
        "colab_type": "text"
      },
      "source": [
        "# Exploring Neural Networks for Handwritten Digit Recognition in the Presence of Artifacts: Further Experiments\n",
        "\n",
        "This notebook generates the results presented in the blog post found here. \n",
        "\n",
        "The the experiments in this notebook reproduce and build on those previously run, outlined [here](https://charlessedgwick.com/2020/08/18/exploring-neural-networks-for-handwritten-digit-recognition-in-the-presence-of-artifacts-methods-and-results/), using Micheal Nielsens python code written from scrath for digit classification using the MNIST data set. \n",
        "\n",
        "The conversion to Keras was done using [this](https://colab.research.google.com/github/AviatorMoser/keras-mnist-tutorial/blob/master/MNIST%20in%20Keras.ipynb) notebook by Daniel Moser as a reference."
      ]
    },
    {
      "cell_type": "code",
      "metadata": {
        "id": "5PuchWcK3Qa4",
        "colab_type": "code",
        "colab": {}
      },
      "source": [
        ""
      ],
      "execution_count": null,
      "outputs": []
    }
  ]
}