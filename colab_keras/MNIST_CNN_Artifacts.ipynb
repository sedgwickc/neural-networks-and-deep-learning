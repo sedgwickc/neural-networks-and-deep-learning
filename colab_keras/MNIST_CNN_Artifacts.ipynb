{
  "nbformat": 4,
  "nbformat_minor": 0,
  "metadata": {
    "colab": {
      "name": "MNIST_CNN_Artifacts.ipynb",
      "provenance": [],
      "collapsed_sections": [],
      "authorship_tag": "ABX9TyMdASGwepF8TU9L7tTFXg1T",
      "include_colab_link": true
    },
    "kernelspec": {
      "name": "python3",
      "display_name": "Python 3"
    }
  },
  "cells": [
    {
      "cell_type": "markdown",
      "metadata": {
        "id": "view-in-github",
        "colab_type": "text"
      },
      "source": [
        "<a href=\"https://colab.research.google.com/github/sedgwickc/neural-networks-and-deep-learning/blob/master/colab_keras/MNIST_CNN_Artifacts.ipynb\" target=\"_parent\"><img src=\"https://colab.research.google.com/assets/colab-badge.svg\" alt=\"Open In Colab\"/></a>"
      ]
    },
    {
      "cell_type": "markdown",
      "metadata": {
        "id": "eDyu7WXQ3YNu",
        "colab_type": "text"
      },
      "source": [
        "# Exploring Neural Networks for Handwritten Digit Recognition in the Presence of Artifacts: Further Experiments\n",
        "\n",
        "This notebook generates the results presented in the blog post found here. \n",
        "\n",
        "The the experiments in this notebook reproduce and build on those previously run, outlined [here](https://charlessedgwick.com/2020/08/18/exploring-neural-networks-for-handwritten-digit-recognition-in-the-presence-of-artifacts-methods-and-results/), using Micheal Nielsens python code written from scrath for digit classification using the MNIST data set. \n",
        "\n",
        "The conversion to Keras was done using [this](https://colab.research.google.com/github/AviatorMoser/keras-mnist-tutorial/blob/master/MNIST%20in%20Keras.ipynb) notebook by Daniel Moser as a reference."
      ]
    },
    {
      "cell_type": "code",
      "metadata": {
        "id": "5PuchWcK3Qa4",
        "colab_type": "code",
        "colab": {}
      },
      "source": [
        "%matplotlib inline\n",
        "\n",
        "# required imports\n",
        "import numpy as np\n",
        "import matplotlib.pyplot as plt\n",
        "import random\n",
        "import math\n",
        "\n",
        "from keras.datasets import mnist\n",
        "from keras.models import Sequential\n",
        "\n",
        "from keras.layers.core import Dense, Dropout, Activation\n",
        "from keras.utils import np_utils\n",
        "\n",
        "# load training data\n",
        "(x_train, y_train), (x_test, y_test) = mnist.load_data()\n",
        "\n",
        "# creat validation data set of 10000 images from training set\n",
        "image_indexes = random.sample(range(x_train.shape[0]), 10000)\n",
        "x_valid = x_train.take(image_indexes, axis=0)\n",
        "x_train = np.delete(x_train, image_indexes, 0)\n",
        "\n",
        "y_valid = y_train.take(image_indexes)\n",
        "y_train = np.delete(y_train, image_indexes, 0)\n",
        "\n"
      ],
      "execution_count": 27,
      "outputs": []
    },
    {
      "cell_type": "code",
      "metadata": {
        "id": "SOOiy9zV-wi7",
        "colab_type": "code",
        "colab": {
          "base_uri": "https://localhost:8080/",
          "height": 129
        },
        "outputId": "c5e8d919-9e5c-4392-dcca-4d01c0cf943c"
      },
      "source": [
        "#inspect data\n",
        "print(\"x_train shape: \", x_train.shape)\n",
        "print(\"y_train shape: \", y_train.shape)\n",
        "print(\"x_valid shape: \", x_valid.shape)\n",
        "print(\"y_valid shape: \", y_valid.shape)\n",
        "print(\"x_test shape: \", x_test.shape)\n",
        "print(\"y_test shape: \", y_test.shape)"
      ],
      "execution_count": 28,
      "outputs": [
        {
          "output_type": "stream",
          "text": [
            "x_train shape:  (50000, 28, 28)\n",
            "y_train shape:  (50000,)\n",
            "x_valid shape:  (10000, 28, 28)\n",
            "y_valis shape:  (10000,)\n",
            "x_test shape:  (10000, 28, 28)\n",
            "y_test shape:  (10000,)\n"
          ],
          "name": "stdout"
        }
      ]
    },
    {
      "cell_type": "code",
      "metadata": {
        "id": "n-ChEoB3Buct",
        "colab_type": "code",
        "colab": {
          "base_uri": "https://localhost:8080/",
          "height": 36
        },
        "outputId": "954a42f4-40ce-4a62-809a-e4aa63cbcc7c"
      },
      "source": [
        "# create artifict training sets\n",
        "def generate_set(ratio_images, ratio_artifacts):\n",
        "  percent_imgs = math.ceil(ratio_images * 100)\n",
        "  percent_art = math.ceil(ratio_artifacts * 100)\n",
        "  print(\"Creating artifact set with \"+ str(percent_imgs)+ \"% of images with \"+str(percent_art)+\"% of each image made up of artifacts\")\n",
        "\n",
        "  #process training data\n",
        "  x_train_artifact = x_train\n",
        "\n",
        "  num_images = math.ceil(60000)\n",
        "generate_set(.5, .3)"
      ],
      "execution_count": 10,
      "outputs": [
        {
          "output_type": "stream",
          "text": [
            "Creating artifact set with 50% of images with 30% of image made up of artifacts\n"
          ],
          "name": "stdout"
        }
      ]
    },
    {
      "cell_type": "code",
      "metadata": {
        "id": "NOg4ANhW-wkf",
        "colab_type": "code",
        "colab": {}
      },
      "source": [
        "# plot some training data\n",
        "\n",
        "# TODO: turn code below into function that can be called for all data sets\n",
        "\n",
        "plt.rcParams['figure.figsize'] = (20,20)\n",
        "\n",
        "for i in range(100):\n",
        "  plt.subplot(10,10,i+1)\n",
        "  num = random.randint(0, len(x_train))\n",
        "  plt.imshow(x_train[num], cmap='gray', interpolation='none')\n",
        "  plt.title(\"Class {}\".format(y_train[num]))\n",
        "  ax = plt.gca()\n",
        "  ax.axes.xaxis.set_visible(False)\n",
        "  ax.axes.yaxis.set_visible(False)\n",
        "\n",
        "plt.show()\n"
      ],
      "execution_count": null,
      "outputs": []
    },
    {
      "cell_type": "code",
      "metadata": {
        "id": "1S_fkgBISjEy",
        "colab_type": "code",
        "colab": {}
      },
      "source": [
        "# create artifact datasets"
      ],
      "execution_count": null,
      "outputs": []
    }
  ]
}